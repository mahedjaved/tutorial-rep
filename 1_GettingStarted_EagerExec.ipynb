{
  "nbformat": 4,
  "nbformat_minor": 0,
  "metadata": {
    "colab": {
      "name": "1_GettingStarted_EagerExec.ipynb",
      "version": "0.3.2",
      "provenance": [],
      "collapsed_sections": []
    },
    "kernelspec": {
      "name": "python3",
      "display_name": "Python 3"
    }
  },
  "cells": [
    {
      "cell_type": "markdown",
      "metadata": {
        "id": "view-in-github",
        "colab_type": "text"
      },
      "source": [
        "[View in Colaboratory](https://colab.research.google.com/github/mahedjaved/tutorial-rep/blob/master/1_GettingStarted_EagerExec.ipynb)"
      ]
    },
    {
      "metadata": {
        "id": "FMwbogZW3bDm",
        "colab_type": "text"
      },
      "cell_type": "markdown",
      "source": [
        "# Chapter 1 - Getting Start - Exec"
      ]
    },
    {
      "metadata": {
        "id": "fuWpUcdo5ps2",
        "colab_type": "text"
      },
      "cell_type": "markdown",
      "source": [
        "* Currently many APIs in tensorflow\n",
        "* EagerExec is the easiest high level API in TF"
      ]
    },
    {
      "metadata": {
        "id": "BZU9Bqdf5p04",
        "colab_type": "code",
        "colab": {}
      },
      "cell_type": "code",
      "source": [
        "#!pip install -q --upgrade tensorflow\n",
        "#!pip freez\n",
        "#!pip install mxnet\n",
        "#!pip uninstall tf-nightly "
      ],
      "execution_count": 0,
      "outputs": []
    },
    {
      "metadata": {
        "id": "ygTPdX-n6TRC",
        "colab_type": "text"
      },
      "cell_type": "markdown",
      "source": [
        "### Basic Guid for Eager Execution"
      ]
    },
    {
      "metadata": {
        "id": "k2Q8qWFR6aQx",
        "colab_type": "text"
      },
      "cell_type": "markdown",
      "source": [
        "* Eager execution enables tensorflow to turn off **computational graph mode** and begin with imperative execution\n",
        "\n",
        "---\n",
        "Begin by importing libraries\n"
      ]
    },
    {
      "metadata": {
        "id": "mcNlNVrg63rX",
        "colab_type": "code",
        "colab": {
          "base_uri": "https://localhost:8080/",
          "height": 53
        },
        "outputId": "dd49f395-f7c0-4ee7-ef81-521830a45dc3"
      },
      "cell_type": "code",
      "source": [
        "from __future__ import absolute_import, division, print_function\n",
        "\n",
        "import os\n",
        "currDir=os.getcwd()\n",
        "import matplotlib.pyplot as plt\n",
        "\n",
        "import tensorflow as tf\n",
        "import tensorflow.contrib.eager as tfe\n",
        "\n",
        "tf.enable_eager_execution()\n",
        "\n",
        "print(\"TensorFlow version: {}\".format(tf.VERSION))\n",
        "print(\"Eager execution: {}\".format(tf.executing_eagerly()))"
      ],
      "execution_count": 2,
      "outputs": [
        {
          "output_type": "stream",
          "text": [
            "TensorFlow version: 1.8.0\n",
            "Eager execution: True\n"
          ],
          "name": "stdout"
        }
      ]
    },
    {
      "metadata": {
        "id": "cydcmzs2M4aH",
        "colab_type": "text"
      },
      "cell_type": "markdown",
      "source": [
        "### Iris Classifier"
      ]
    },
    {
      "metadata": {
        "id": "U-lQ8I6MNSF_",
        "colab_type": "text"
      },
      "cell_type": "markdown",
      "source": [
        "* A more modest approach to classifying flowers\n",
        "* Mostly based on sizes\n",
        "* Will only classify 3 species\n",
        "    * Iris setosa\n",
        "    * Iris virginica\n",
        "    * Iris versicolor"
      ]
    },
    {
      "metadata": {
        "id": "EySuPaOrNlo2",
        "colab_type": "text"
      },
      "cell_type": "markdown",
      "source": [
        "#### 1. Download the dataset"
      ]
    },
    {
      "metadata": {
        "id": "v_Sd45gpNqEE",
        "colab_type": "code",
        "colab": {
          "base_uri": "https://localhost:8080/",
          "height": 92
        },
        "outputId": "79ca9d00-e74f-43e5-d9b7-8417441e34bb"
      },
      "cell_type": "code",
      "source": [
        "train_dataset_url = \"http://download.tensorflow.org/data/iris_training.csv\"\n",
        "\n",
        "train_dataset_fp = tf.keras.utils.get_file(fname=os.path.basename(train_dataset_url),\n",
        "                                           origin=train_dataset_url)\n",
        "\n",
        "print(\"Local copy of the dataset file: {}\".format(train_dataset_fp))"
      ],
      "execution_count": 5,
      "outputs": [
        {
          "output_type": "stream",
          "text": [
            "Downloading data from http://download.tensorflow.org/data/iris_training.csv\n",
            "\r8192/2194 [================================================================================================================] - 0s 0us/step\n",
            "Local copy of the dataset file: /content/.keras/datasets/iris_training.csv\n"
          ],
          "name": "stdout"
        }
      ]
    },
    {
      "metadata": {
        "id": "pzu_QQAdN7jN",
        "colab_type": "text"
      },
      "cell_type": "markdown",
      "source": [
        "#### 2. Inspect the dataset"
      ]
    },
    {
      "metadata": {
        "id": "mf2HFLmdN7nG",
        "colab_type": "text"
      },
      "cell_type": "markdown",
      "source": [
        "* The '-n5' command takes a peak at only the first five entries"
      ]
    },
    {
      "metadata": {
        "id": "kPqvbD5ZN7rJ",
        "colab_type": "code",
        "colab": {
          "base_uri": "https://localhost:8080/",
          "height": 108
        },
        "outputId": "79622dd8-c88e-4a2b-cfbb-3c5acc660c64"
      },
      "cell_type": "code",
      "source": [
        "!head -n5 {train_dataset_fp}"
      ],
      "execution_count": 6,
      "outputs": [
        {
          "output_type": "stream",
          "text": [
            "120,4,setosa,versicolor,virginica\r\n",
            "6.4,2.8,5.6,2.2,2\r\n",
            "5.0,2.3,3.3,1.0,1\r\n",
            "4.9,2.5,4.5,1.7,2\r\n",
            "4.9,3.1,1.5,0.1,0\r\n"
          ],
          "name": "stdout"
        }
      ]
    },
    {
      "metadata": {
        "id": "HRxSCGpHN7xS",
        "colab_type": "text"
      },
      "cell_type": "markdown",
      "source": [
        "* The first line contains header information e.g. 120 points to the size of the dataset \n",
        "* The following rows capture features\n",
        "* E.g. the first four columns capture the measurements of the flower\n",
        "* The last layer captures the category type defining the name of the flower"
      ]
    },
    {
      "metadata": {
        "id": "7Ud7aQHnN7ui",
        "colab_type": "text"
      },
      "cell_type": "markdown",
      "source": [
        "#### 3. Parsing dataset "
      ]
    },
    {
      "metadata": {
        "id": "DGvSIy3rmmqR",
        "colab_type": "text"
      },
      "cell_type": "markdown",
      "source": [
        "* Parsing allows dataset to be readable for python from CSV format\n",
        "* Each row of the .csv file is passed into the function \"parse_csv\" as an argument\n",
        "* Finally the last field is parsed as a label {field=column}\n",
        "* The function \"parse_csv\" combines fields into a single tensor := each column is recorded as a single tensor\n",
        "* And it returns both \"features\" and \"labels\""
      ]
    },
    {
      "metadata": {
        "id": "lVnB7vVynREl",
        "colab_type": "code",
        "colab": {}
      },
      "cell_type": "code",
      "source": [
        "def parse_csv(line):\n",
        "  example_defaults=[[0.], [0.], [0.], [0.], [0.]]\n",
        "  parsed_line=tf.decode_csv(line, example_defaults)\n",
        "  # first 4 fields are features, combined into single tensor\n",
        "  features=tf.reshape(parsed_line[:-1], shape=(4,))\n",
        "  # set last field as label\n",
        "  label=tf.reshape(parsed_line[:-1], shape=())\n",
        "  return features, label"
      ],
      "execution_count": 0,
      "outputs": []
    },
    {
      "metadata": {
        "id": "npKgl6e0oFEw",
        "colab_type": "text"
      },
      "cell_type": "markdown",
      "source": [
        "#### 4. Create training data using tf.data API"
      ]
    },
    {
      "metadata": {
        "id": "3PwGX18f2L-D",
        "colab_type": "code",
        "colab": {}
      },
      "cell_type": "code",
      "source": [
        ""
      ],
      "execution_count": 0,
      "outputs": []
    }
  ]
}