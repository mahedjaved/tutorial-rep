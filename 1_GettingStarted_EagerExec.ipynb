{
  "nbformat": 4,
  "nbformat_minor": 0,
  "metadata": {
    "colab": {
      "name": "1_GettingStarted_EagerExec.ipynb",
      "version": "0.3.2",
      "provenance": [],
      "collapsed_sections": []
    },
    "kernelspec": {
      "name": "python3",
      "display_name": "Python 3"
    }
  },
  "cells": [
    {
      "cell_type": "markdown",
      "metadata": {
        "id": "view-in-github",
        "colab_type": "text"
      },
      "source": [
        "[View in Colaboratory](https://colab.research.google.com/github/mahedjaved/tutorial-rep/blob/master/1_GettingStarted_EagerExec.ipynb)"
      ]
    },
    {
      "metadata": {
        "id": "FMwbogZW3bDm",
        "colab_type": "text"
      },
      "cell_type": "markdown",
      "source": [
        "# Chapter 1 - Getting Start - Exec"
      ]
    },
    {
      "metadata": {
        "id": "fuWpUcdo5ps2",
        "colab_type": "text"
      },
      "cell_type": "markdown",
      "source": [
        "* Currently many APIs in tensorflow\n",
        "* EagerExec is the easiest high level API in TF"
      ]
    },
    {
      "metadata": {
        "id": "BZU9Bqdf5p04",
        "colab_type": "code",
        "colab": {}
      },
      "cell_type": "code",
      "source": [
        "#!pip install -q --upgrade tensorflow\n",
        "#!pip freeze\n",
        "#!pip install mxnet"
      ],
      "execution_count": 0,
      "outputs": []
    },
    {
      "metadata": {
        "id": "ygTPdX-n6TRC",
        "colab_type": "text"
      },
      "cell_type": "markdown",
      "source": [
        "### Basic Info for Eager Execution"
      ]
    },
    {
      "metadata": {
        "id": "k2Q8qWFR6aQx",
        "colab_type": "text"
      },
      "cell_type": "markdown",
      "source": [
        "* Eager execution enables tensorflow to turn off **computational graph mode** and begin with imperative execution\n",
        "\n",
        "---\n",
        "Begin by importing libraries\n"
      ]
    },
    {
      "metadata": {
        "id": "mcNlNVrg63rX",
        "colab_type": "code",
        "colab": {}
      },
      "cell_type": "code",
      "source": [
        "from __future__ import absolute_import, division, print_function\n",
        "import os\n",
        "currDir=os.getcwd()\n",
        "import matplotlib as plt\n",
        "\n",
        "import tensorflow as tf\n",
        "import tensorflow.contrib.eager as tfe\n",
        "\n",
        "tf.enable_eager_execution()"
      ],
      "execution_count": 0,
      "outputs": []
    },
    {
      "metadata": {
        "id": "6FYW7P6aAbV_",
        "colab_type": "text"
      },
      "cell_type": "markdown",
      "source": [
        "### Iris Classification Problem"
      ]
    },
    {
      "metadata": {
        "id": "51bkXqpoEBf7",
        "colab_type": "text"
      },
      "cell_type": "markdown",
      "source": [
        "* A more modest approach to classifying flowers\n",
        "* Based mostly on measurements of **sepals** and **petals**"
      ]
    },
    {
      "metadata": {
        "id": "WPHmU1E5EzE-",
        "colab_type": "text"
      },
      "cell_type": "markdown",
      "source": [
        "##### 1.  Download the dataset"
      ]
    },
    {
      "metadata": {
        "id": "nHkL6qN6E86O",
        "colab_type": "code",
        "colab": {}
      },
      "cell_type": "code",
      "source": [
        "train_dataset_url=\"http://download.tensorflow.org/data/iris_training.csv\"\n",
        "# keras ver. of \"utils.get_file\" is more appropriate for downloading 'csv\n",
        "# \n"
      ],
      "execution_count": 0,
      "outputs": []
    }
  ]
}