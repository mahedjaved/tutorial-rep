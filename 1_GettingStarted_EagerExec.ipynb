{
  "nbformat": 4,
  "nbformat_minor": 0,
  "metadata": {
    "colab": {
      "name": "1_GettingStarted_EagerExec.ipynb",
      "version": "0.3.2",
      "provenance": [],
      "collapsed_sections": []
    },
    "kernelspec": {
      "name": "python3",
      "display_name": "Python 3"
    }
  },
  "cells": [
    {
      "cell_type": "markdown",
      "metadata": {
        "id": "view-in-github",
        "colab_type": "text"
      },
      "source": [
        "[View in Colaboratory](https://colab.research.google.com/github/mahedjaved/tutorial-rep/blob/master/1_GettingStarted_EagerExec.ipynb)"
      ]
    },
    {
      "metadata": {
        "id": "FMwbogZW3bDm",
        "colab_type": "text"
      },
      "cell_type": "markdown",
      "source": [
        "# Chapter 1 - Getting Start - Exec"
      ]
    },
    {
      "metadata": {
        "id": "fuWpUcdo5ps2",
        "colab_type": "text"
      },
      "cell_type": "markdown",
      "source": [
        "* Currently many APIs in tensorflow\n",
        "* EagerExec is the easiest high level API in TF"
      ]
    },
    {
      "metadata": {
        "id": "BZU9Bqdf5p04",
        "colab_type": "code",
        "colab": {}
      },
      "cell_type": "code",
      "source": [
        "#!pip install -q --upgrade tensorflow\n",
        "#!pip freez\n",
        "#!pip install mxnet\n",
        "#!pip uninstall tf-nightly "
      ],
      "execution_count": 0,
      "outputs": []
    },
    {
      "metadata": {
        "id": "ygTPdX-n6TRC",
        "colab_type": "text"
      },
      "cell_type": "markdown",
      "source": [
        "### Basic Guid for Eager Execution"
      ]
    },
    {
      "metadata": {
        "id": "k2Q8qWFR6aQx",
        "colab_type": "text"
      },
      "cell_type": "markdown",
      "source": [
        "* Eager execution enables tensorflow to turn off **computational graph mode** and begin with imperative execution\n",
        "\n",
        "---\n",
        "Begin by importing libraries\n"
      ]
    },
    {
      "metadata": {
        "id": "mcNlNVrg63rX",
        "colab_type": "code",
        "colab": {
          "base_uri": "https://localhost:8080/",
          "height": 51
        },
        "outputId": "5d8540ba-0651-41dd-d279-5204098da74a"
      },
      "cell_type": "code",
      "source": [
        "from __future__ import absolute_import, division, print_function\n",
        "\n",
        "import os\n",
        "currDir=os.getcwd()\n",
        "import matplotlib.pyplot as plt\n",
        "\n",
        "import numpy as np\n",
        "import tensorflow as tf\n",
        "import tensorflow.contrib.eager as tfe\n",
        "\n",
        "tf.enable_eager_execution()\n",
        "\n",
        "print(\"TensorFlow version: {}\".format(tf.VERSION))\n",
        "print(\"Eager execution: {}\".format(tf.executing_eagerly()))"
      ],
      "execution_count": 1,
      "outputs": [
        {
          "output_type": "stream",
          "text": [
            "TensorFlow version: 1.7.0\n",
            "Eager execution: True\n"
          ],
          "name": "stdout"
        }
      ]
    },
    {
      "metadata": {
        "id": "cydcmzs2M4aH",
        "colab_type": "text"
      },
      "cell_type": "markdown",
      "source": [
        "### Iris Classifier"
      ]
    },
    {
      "metadata": {
        "id": "U-lQ8I6MNSF_",
        "colab_type": "text"
      },
      "cell_type": "markdown",
      "source": [
        "* A more modest approach to classifying flowers\n",
        "* Mostly based on sizes\n",
        "* Will only classify 3 species\n",
        "    * Iris setosa\n",
        "    * Iris virginica\n",
        "    * Iris versicolor"
      ]
    },
    {
      "metadata": {
        "id": "EySuPaOrNlo2",
        "colab_type": "text"
      },
      "cell_type": "markdown",
      "source": [
        "#### 1. Download the dataset"
      ]
    },
    {
      "metadata": {
        "id": "v_Sd45gpNqEE",
        "colab_type": "code",
        "colab": {
          "base_uri": "https://localhost:8080/",
          "height": 54
        },
        "outputId": "11302c1f-67cb-40ee-e05d-62c6e5143643"
      },
      "cell_type": "code",
      "source": [
        "\n",
        "train_dataset_url = \"http://download.tensorflow.org/data/iris_training.csv\"\n",
        "\n",
        "train_dataset_fp = tf.keras.utils.get_file(fname=os.path.basename(train_dataset_url),\n",
        "                                           origin=train_dataset_url)\n",
        "\n",
        "print(\"Local copy of the dataset file: {}\".format(train_dataset_fp))\n"
      ],
      "execution_count": 2,
      "outputs": [
        {
          "output_type": "stream",
          "text": [
            "Local copy of the dataset file: /content/.keras/datasets/iris_training.csv\n"
          ],
          "name": "stdout"
        }
      ]
    },
    {
      "metadata": {
        "id": "pzu_QQAdN7jN",
        "colab_type": "text"
      },
      "cell_type": "markdown",
      "source": [
        "#### 2. Inspect the dataset"
      ]
    },
    {
      "metadata": {
        "id": "mf2HFLmdN7nG",
        "colab_type": "text"
      },
      "cell_type": "markdown",
      "source": [
        "* The '-n5' command takes a peak at only the first five entries"
      ]
    },
    {
      "metadata": {
        "id": "kPqvbD5ZN7rJ",
        "colab_type": "code",
        "colab": {
          "base_uri": "https://localhost:8080/",
          "height": 101
        },
        "outputId": "688ef40f-6ebf-41d7-d431-3840c28e397f"
      },
      "cell_type": "code",
      "source": [
        "!head -n5 {train_dataset_fp}"
      ],
      "execution_count": 3,
      "outputs": [
        {
          "output_type": "stream",
          "text": [
            "120,4,setosa,versicolor,virginica\r\n",
            "6.4,2.8,5.6,2.2,2\r\n",
            "5.0,2.3,3.3,1.0,1\r\n",
            "4.9,2.5,4.5,1.7,2\r\n",
            "4.9,3.1,1.5,0.1,0\r\n"
          ],
          "name": "stdout"
        }
      ]
    },
    {
      "metadata": {
        "id": "HRxSCGpHN7xS",
        "colab_type": "text"
      },
      "cell_type": "markdown",
      "source": [
        "* The first line contains header information e.g. 120 points to the size of the dataset \n",
        "* The following rows capture features\n",
        "* E.g. the first four columns capture the measurements of the flower\n",
        "* The last layer captures the category type defining the name of the flower"
      ]
    },
    {
      "metadata": {
        "id": "7Ud7aQHnN7ui",
        "colab_type": "text"
      },
      "cell_type": "markdown",
      "source": [
        "#### 3. Parsing dataset "
      ]
    },
    {
      "metadata": {
        "id": "DGvSIy3rmmqR",
        "colab_type": "text"
      },
      "cell_type": "markdown",
      "source": [
        "* Parsing allows dataset to be readable for python from CSV format\n",
        "* Each row of the .csv file is passed into the function \"parse_csv\" as an argument\n",
        "* Finally the last field is parsed as a label {field=column}\n",
        "* The function \"parse_csv\" combines fields into a single tensor := each column is recorded as a single tensor\n",
        "* And it returns both \"features\" and \"labels\""
      ]
    },
    {
      "metadata": {
        "id": "lVnB7vVynREl",
        "colab_type": "code",
        "colab": {}
      },
      "cell_type": "code",
      "source": [
        "def parse_csv(line):\n",
        "  example_defaults=[[0.], [0.], [0.], [0.], [0.]]\n",
        "  parsed_line=tf.decode_csv(line, example_defaults)\n",
        "  # first 4 fields are features, combined into single tensor\n",
        "  features=tf.reshape(parsed_line[:-1], shape=(4,))\n",
        "  # set last field as label\n",
        "  label=tf.reshape(parsed_line[:-1], shape=())\n",
        "  return features, label"
      ],
      "execution_count": 0,
      "outputs": []
    },
    {
      "metadata": {
        "id": "npKgl6e0oFEw",
        "colab_type": "text"
      },
      "cell_type": "markdown",
      "source": [
        "#### 4. Create training data using tf.data API"
      ]
    },
    {
      "metadata": {
        "id": "-Z89H0ltk_02",
        "colab_type": "text"
      },
      "cell_type": "markdown",
      "source": [
        "* The function 'tf.data.TextLineDataset' is used to laod a CSV formatted text file\n",
        "* This file is then parsed by the function \"parse_csv\"\n",
        "* Ideally data storage within the Dataset API is usualkly stored in a sequential formatsuch that ordering is not required\n",
        "* However, training works best if the data is ordered randomly\n",
        "  * -> Which is where the function tf.data.Data.shuffle comes in to play\n",
        "* Furthermore we also have batch size to help us train faster"
      ]
    },
    {
      "metadata": {
        "id": "tB3g7ufFl9xI",
        "colab_type": "code",
        "colab": {}
      },
      "cell_type": "code",
      "source": [
        "train_dataset=tf.data.TextLineDataset(train_dataset_fp)\n",
        "# using skip to 'skip' lol the first row which is not capturing any \n",
        "# detail on the labels\n",
        "train_dataset=train_dataset.skip(1)   "
      ],
      "execution_count": 0,
      "outputs": []
    },
    {
      "metadata": {
        "id": "IRvI_4Yd1nhY",
        "colab_type": "code",
        "colab": {}
      },
      "cell_type": "code",
      "source": [
        ""
      ],
      "execution_count": 0,
      "outputs": []
    },
    {
      "metadata": {
        "id": "5mZY9eCF1neF",
        "colab_type": "code",
        "colab": {}
      },
      "cell_type": "code",
      "source": [
        ""
      ],
      "execution_count": 0,
      "outputs": []
    },
    {
      "metadata": {
        "id": "7PdJAnIA1nbF",
        "colab_type": "code",
        "colab": {}
      },
      "cell_type": "code",
      "source": [
        ""
      ],
      "execution_count": 0,
      "outputs": []
    },
    {
      "metadata": {
        "id": "Vvka21zZ1nWW",
        "colab_type": "code",
        "colab": {}
      },
      "cell_type": "code",
      "source": [
        ""
      ],
      "execution_count": 0,
      "outputs": []
    },
    {
      "metadata": {
        "id": "fQpFyfQU1bxd",
        "colab_type": "text"
      },
      "cell_type": "markdown",
      "source": [
        "---\n",
        "# Code for adding occlusions"
      ]
    },
    {
      "metadata": {
        "id": "gH_kHvJunOJ8",
        "colab_type": "code",
        "colab": {}
      },
      "cell_type": "code",
      "source": [
        "import numpy as np\n",
        "\n",
        "\n",
        "def get_random_eraser(p=0.5, s_l=0.02, s_h=0.4, r_1=0.3, r_2=1/0.3, v_l=0, v_h=255, pixel_level=False):\n",
        "    def eraser(input_img):\n",
        "        img_h, img_w, img_c = input_img.shape\n",
        "        p_1 = np.random.rand()\n",
        "\n",
        "        if p_1 > p:\n",
        "            return input_img\n",
        "\n",
        "        while True:\n",
        "            s = np.random.uniform(s_l, s_h) * img_h * img_w\n",
        "            r = np.random.uniform(r_1, r_2)\n",
        "            w = int(np.sqrt(s / r))\n",
        "            h = int(np.sqrt(s * r))\n",
        "            left = np.random.randint(0, img_w)\n",
        "            top = np.random.randint(0, img_h)\n",
        "\n",
        "            if left + w <= img_w and top + h <= img_h:\n",
        "                break\n",
        "\n",
        "        if pixel_level:\n",
        "            c = np.random.uniform(v_l, v_h, (h, w, img_c))\n",
        "        else:\n",
        "            c = np.random.uniform(v_l, v_h)\n",
        "\n",
        "        input_img[top:top + h, left:left + w, :] = c\n",
        "\n",
        "        return input_img\n",
        "\n",
        "    return eraser"
      ],
      "execution_count": 0,
      "outputs": []
    },
    {
      "metadata": {
        "id": "G99OnwMA1ey8",
        "colab_type": "text"
      },
      "cell_type": "markdown",
      "source": [
        "# Code for Brightness and Contrast Change"
      ]
    },
    {
      "metadata": {
        "id": "ZIDwyA0MnemL",
        "colab_type": "code",
        "colab": {}
      },
      "cell_type": "code",
      "source": [
        "import cv2 as cv\n",
        "import numpy as np\n",
        "\n",
        "# Open a typical 24 bit color image. For this kind of image there are\n",
        "# 8 bits (0 to 255) per color channel\n",
        "img = cv.imread('mandrill.png')  # mandrill reference image from USC SIPI\n",
        "\n",
        "# Convert to signed 16 bit. this will allow values less than zero and\n",
        "# greater than 255\n",
        "img = np.int16(img)  \n",
        "\n",
        "contrast   = 64\n",
        "brightness = 0\n",
        "\n",
        "img = img*(contrast/127 + 1) - contrast + brightness\n",
        "\n",
        "# we now have an image that has been adjusted for brightness and\n",
        "# contrast, but we need to clip values not in the range 0 to 255\n",
        "img = np.clip(img, 0, 255)  # force all values to be between 0 and 255\n",
        "\n",
        "# finally, convert image back to unsigned 8 bit integer\n",
        "img = np.uint8(img)\n",
        "\n",
        "cv.imwrite('mandrill_contrast64.png', img)"
      ],
      "execution_count": 0,
      "outputs": []
    },
    {
      "metadata": {
        "id": "Q5vY3-8FnsOa",
        "colab_type": "text"
      },
      "cell_type": "markdown",
      "source": [
        "### Import random image"
      ]
    },
    {
      "metadata": {
        "id": "OuL4eVuv5OvR",
        "colab_type": "text"
      },
      "cell_type": "markdown",
      "source": [
        "##### import the image"
      ]
    },
    {
      "metadata": {
        "id": "JdEkXHJ36Ru8",
        "colab_type": "code",
        "colab": {}
      },
      "cell_type": "code",
      "source": [
        "from skimage import io\n",
        "import cv2"
      ],
      "execution_count": 0,
      "outputs": []
    },
    {
      "metadata": {
        "id": "tFql4vsUoKyn",
        "colab_type": "code",
        "colab": {
          "base_uri": "https://localhost:8080/",
          "height": 132
        },
        "outputId": "a5a2c3c0-ada3-4ce2-f3cf-f8ab8d656e33"
      },
      "cell_type": "code",
      "source": [
        "plt.figure(figsize=(4,4))\n",
        "image = io.imread('https://i.kinja-img.com/gawker-media/image/upload/c_scale,f_auto,fl_progressive,q_80,w_800/1372352376357615394.jpg')\n",
        "# change to BGR for cv2\n",
        "cv2Image=cv2.cvtColor(image, cv2.COLOR_RGB2BGR)[:,:,(2,1,0)]\n",
        "plt.imshow(np.hstack((image, cv2Image)))"
      ],
      "execution_count": 25,
      "outputs": [
        {
          "output_type": "execute_result",
          "data": {
            "text/plain": [
              "<matplotlib.image.AxesImage at 0x7fa51aad76d8>"
            ]
          },
          "metadata": {
            "tags": []
          },
          "execution_count": 25
        },
        {
          "output_type": "display_data",
          "data": {
            "image/png": "[encoded data removed]",
            "text/plain": [
              "<matplotlib.figure.Figure at 0x7fa51ab55550>"
            ]
          },
          "metadata": {
            "tags": []
          }
        }
      ]
    },
    {
      "metadata": {
        "id": "VELzDJoh7BUf",
        "colab_type": "text"
      },
      "cell_type": "markdown",
      "source": [
        "---"
      ]
    },
    {
      "metadata": {
        "id": "F1kbN_DZ6Xip",
        "colab_type": "code",
        "colab": {}
      },
      "cell_type": "code",
      "source": [
        ""
      ],
      "execution_count": 0,
      "outputs": []
    },
    {
      "metadata": {
        "id": "l4UtMvHg6XmP",
        "colab_type": "code",
        "colab": {}
      },
      "cell_type": "code",
      "source": [
        ""
      ],
      "execution_count": 0,
      "outputs": []
    },
    {
      "metadata": {
        "id": "S4jRmPqk6Xph",
        "colab_type": "code",
        "colab": {}
      },
      "cell_type": "code",
      "source": [
        ""
      ],
      "execution_count": 0,
      "outputs": []
    },
    {
      "metadata": {
        "id": "LQNB2i5k6Xsk",
        "colab_type": "code",
        "colab": {}
      },
      "cell_type": "code",
      "source": [
        ""
      ],
      "execution_count": 0,
      "outputs": []
    },
    {
      "metadata": {
        "id": "VTrCOlC46Xu_",
        "colab_type": "code",
        "colab": {}
      },
      "cell_type": "code",
      "source": [
        ""
      ],
      "execution_count": 0,
      "outputs": []
    },
    {
      "metadata": {
        "id": "BH5dQQ816Xxe",
        "colab_type": "code",
        "colab": {}
      },
      "cell_type": "code",
      "source": [
        ""
      ],
      "execution_count": 0,
      "outputs": []
    },
    {
      "metadata": {
        "id": "-ReTfiLs6X0H",
        "colab_type": "code",
        "colab": {}
      },
      "cell_type": "code",
      "source": [
        ""
      ],
      "execution_count": 0,
      "outputs": []
    },
    {
      "metadata": {
        "id": "_imsYagR6X2X",
        "colab_type": "code",
        "colab": {}
      },
      "cell_type": "code",
      "source": [
        ""
      ],
      "execution_count": 0,
      "outputs": []
    },
    {
      "metadata": {
        "id": "yMPQVzbf6X4u",
        "colab_type": "code",
        "colab": {}
      },
      "cell_type": "code",
      "source": [
        ""
      ],
      "execution_count": 0,
      "outputs": []
    }
  ]
}